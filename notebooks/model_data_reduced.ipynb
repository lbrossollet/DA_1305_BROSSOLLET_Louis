{
 "cells": [
  {
   "cell_type": "code",
   "execution_count": 1,
   "metadata": {},
   "outputs": [],
   "source": [
    "import pandas as pd\n",
    "import numpy as np\n",
    "from sklearn.model_selection import train_test_split, GridSearchCV\n",
    "from sklearn.preprocessing import StandardScaler, OneHotEncoder\n",
    "from sklearn.compose import ColumnTransformer\n",
    "from sklearn.pipeline import Pipeline\n",
    "from sklearn.ensemble import RandomForestRegressor\n",
    "from sklearn.linear_model import LinearRegression\n",
    "from sklearn.svm import SVR\n",
    "from sklearn.metrics import mean_squared_error, r2_score\n",
    "from datetime import datetime\n",
    "import holidays\n"
   ]
  },
  {
   "cell_type": "code",
   "execution_count": 2,
   "metadata": {},
   "outputs": [],
   "source": [
    "df = pd.read_csv('../data_processed/traffic_shift_nord.csv')\n"
   ]
  },
  {
   "cell_type": "code",
   "execution_count": 7,
   "metadata": {},
   "outputs": [],
   "source": [
    "df['date'] = pd.to_datetime(df['annee'].astype(str) + '-' + df['mois'].astype(str) + '-' + df['jour'].astype(str))\n"
   ]
  },
  {
   "cell_type": "code",
   "execution_count": 10,
   "metadata": {},
   "outputs": [
    {
     "name": "stdout",
     "output_type": "stream",
     "text": [
      "Index(['Unnamed: 0', 'Identifiant_arc', 'C_AR', 'AM/PM', 'annee', 'mois',\n",
      "       'jour', 'vacances', 'semaine', 'Débit_horaire', 'Taux_d'occupation',\n",
      "       'Etat_trafic', 'date'],\n",
      "      dtype='object')\n",
      "   Unnamed: 0  Identifiant_arc  C_AR AM/PM  annee  mois  jour  vacances  \\\n",
      "0           0              256   9.0    AM   2023     6     1         0   \n",
      "1           1              256   9.0    AM   2023     6     2         0   \n",
      "2           2              256   9.0    AM   2023     6     3         0   \n",
      "3           3              256   9.0    AM   2023     6     4         0   \n",
      "4           4              256   9.0    AM   2023     6     5         0   \n",
      "\n",
      "   semaine  Débit_horaire  Taux_d'occupation  Etat_trafic       date  \\\n",
      "0       22     370.000000           8.188256          1.0 2023-06-01   \n",
      "1       22     425.571429          10.511111          1.0 2023-06-02   \n",
      "2       22     241.428571           4.100240          1.0 2023-06-03   \n",
      "3       22     182.428571           2.797226          1.0 2023-06-04   \n",
      "4       23     377.285714           7.200637          1.0 2023-06-05   \n",
      "\n",
      "   jour_ferie  \n",
      "0           0  \n",
      "1           0  \n",
      "2           0  \n",
      "3           0  \n",
      "4           0  \n"
     ]
    }
   ],
   "source": [
    "# Assurons-nous que les noms de colonnes sont corrects\n",
    "print(df.columns)\n",
    "\n",
    "# Créer une colonne de date\n",
    "\n",
    "# Utiliser la bibliothèque holidays pour déterminer les jours fériés en France\n",
    "fr_holidays = holidays.France()\n",
    "\n",
    "# Ajouter une colonne pour indiquer si c'est un jour férié\n",
    "df['jour_ferie'] = df['date'].apply(lambda x: 1 if x in fr_holidays else 0)\n",
    "\n",
    "# Vérification des premières lignes pour confirmer les ajouts\n",
    "print(df.head())\n"
   ]
  },
  {
   "cell_type": "code",
   "execution_count": 12,
   "metadata": {},
   "outputs": [],
   "source": [
    "df=df.dropna()"
   ]
  },
  {
   "cell_type": "code",
   "execution_count": 13,
   "metadata": {},
   "outputs": [
    {
     "name": "stdout",
     "output_type": "stream",
     "text": [
      "Model: LinearRegression\n",
      "Mean Squared Error: 58103.49507930377\n",
      "R2 Score: 0.9725546604757057\n",
      "\n",
      "Model: RandomForest\n",
      "Mean Squared Error: 14208.418213246074\n",
      "R2 Score: 0.9932886160904182\n",
      "\n",
      "Model: SVR\n",
      "Mean Squared Error: 2192141.50743628\n",
      "R2 Score: -0.03546383698211075\n",
      "\n",
      "Best parameters found:  {'model__max_depth': 30, 'model__n_estimators': 300}\n",
      "Best R2 score:  0.9921669708600692\n",
      "Test set R2 score: 0.9931231534470438\n"
     ]
    }
   ],
   "source": [
    "import numpy as np\n",
    "from sklearn.model_selection import train_test_split, GridSearchCV\n",
    "from sklearn.preprocessing import StandardScaler, OneHotEncoder\n",
    "from sklearn.compose import ColumnTransformer\n",
    "from sklearn.pipeline import Pipeline\n",
    "from sklearn.ensemble import RandomForestRegressor\n",
    "from sklearn.linear_model import LinearRegression\n",
    "from sklearn.svm import SVR\n",
    "from sklearn.metrics import mean_squared_error, r2_score\n",
    "\n",
    "# Préparation des données\n",
    "X = df.drop(columns=['Débit_horaire', 'date'])\n",
    "y = df['Débit_horaire']\n",
    "\n",
    "# Identification des colonnes numériques et catégorielles\n",
    "numeric_features = ['C_AR', 'annee', 'mois', 'jour', 'vacances', 'semaine', \"Taux_d'occupation\", 'Etat_trafic']\n",
    "categorical_features = ['Identifiant_arc', 'AM/PM', 'jour_ferie']\n",
    "\n",
    "# Préparation des transformateurs\n",
    "numeric_transformer = StandardScaler()\n",
    "categorical_transformer = OneHotEncoder(handle_unknown='ignore')\n",
    "\n",
    "# Création du transformateur en colonnes\n",
    "preprocessor = ColumnTransformer(\n",
    "    transformers=[\n",
    "        ('num', numeric_transformer, numeric_features),\n",
    "        ('cat', categorical_transformer, categorical_features)\n",
    "    ]\n",
    ")\n",
    "\n",
    "# Modèles à tester\n",
    "models = {\n",
    "    'LinearRegression': LinearRegression(),\n",
    "    'RandomForest': RandomForestRegressor(),\n",
    "    'SVR': SVR()\n",
    "}\n",
    "\n",
    "# Résultats\n",
    "results = {}\n",
    "\n",
    "# Division des données en ensembles d'entraînement et de test\n",
    "X_train, X_test, y_train, y_test = train_test_split(X, y, test_size=0.2, random_state=42)\n",
    "\n",
    "for name, model in models.items():\n",
    "    # Création de la pipeline\n",
    "    pipeline = Pipeline(steps=[('preprocessor', preprocessor), ('model', model)])\n",
    "    \n",
    "    # Entraînement du modèle\n",
    "    pipeline.fit(X_train, y_train)\n",
    "    \n",
    "    # Prédictions\n",
    "    y_pred = pipeline.predict(X_test)\n",
    "    \n",
    "    # Évaluation\n",
    "    mse = mean_squared_error(y_test, y_pred)\n",
    "    r2 = r2_score(y_test, y_pred)\n",
    "    \n",
    "    results[name] = {'MSE': mse, 'R2': r2}\n",
    "\n",
    "# Affichage des résultats\n",
    "for name, metrics in results.items():\n",
    "    print(f\"Model: {name}\")\n",
    "    print(f\"Mean Squared Error: {metrics['MSE']}\")\n",
    "    print(f\"R2 Score: {metrics['R2']}\")\n",
    "    print()\n",
    "\n",
    "# Exemple d'optimisation pour RandomForestRegressor\n",
    "param_grid = {\n",
    "    'model__n_estimators': [100, 200, 300],\n",
    "    'model__max_depth': [10, 20, 30]\n",
    "}\n",
    "\n",
    "pipeline = Pipeline(steps=[('preprocessor', preprocessor), ('model', RandomForestRegressor())])\n",
    "\n",
    "grid_search = GridSearchCV(pipeline, param_grid, cv=5, scoring='r2', n_jobs=-1)\n",
    "grid_search.fit(X_train, y_train)\n",
    "\n",
    "print(\"Best parameters found: \", grid_search.best_params_)\n",
    "print(\"Best R2 score: \", grid_search.best_score_)\n",
    "\n",
    "# Évaluation sur le test set\n",
    "best_model = grid_search.best_estimator_\n",
    "y_pred = best_model.predict(X_test)\n",
    "print(f\"Test set R2 score: {r2_score(y_test, y_pred)}\")\n"
   ]
  }
 ],
 "metadata": {
  "kernelspec": {
   "display_name": "Python 3",
   "language": "python",
   "name": "python3"
  },
  "language_info": {
   "codemirror_mode": {
    "name": "ipython",
    "version": 3
   },
   "file_extension": ".py",
   "mimetype": "text/x-python",
   "name": "python",
   "nbconvert_exporter": "python",
   "pygments_lexer": "ipython3",
   "version": "3.11.6"
  }
 },
 "nbformat": 4,
 "nbformat_minor": 2
}
